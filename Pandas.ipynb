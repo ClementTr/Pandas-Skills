{
 "cells": [
  {
   "cell_type": "markdown",
   "metadata": {
    "deletable": true,
    "editable": true
   },
   "source": [
    "<p><font size=5 color=\"#210F6E\"><em><u><center>Python pandas's use cases presentation</center></u></em></font><p>\n",
    "<br>\n",
    "<p><font face=\"Gill Sans\" color=\"#261D7A\" size=\"3.2\">We start by importing the necessary libraries to study the data. <br>\n",
    "We will then create a dataframe and display the number of columns and rows.</font></p>"
   ]
  },
  {
   "cell_type": "code",
   "execution_count": null,
   "metadata": {
    "collapsed": false,
    "deletable": true,
    "editable": true
   },
   "outputs": [],
   "source": [
    "import pandas as pd\n",
    "import numpy as np\n",
    "import matplotlib.pyplot as plot\n",
    "\n",
    "df = pd.DataFrame({\n",
    "    'Firstname': ['Mesut','Jack', 'Chuba','Aaron', 'Per', 'Olivier', 'Shkodran'],\n",
    "    'Country': ['Germany','England', 'England','Wales', 'Germany', 'France', 'Germany'],\n",
    "    'Post': ['Midfielder','Midfielder', 'Forward','Midfielder', 'Defender', 'Striker', 'Defender'],\n",
    "    'Age':[27, 26, 20, 26, 32, 29, 24],\n",
    "    'Goals':[10, 0, 6, 2, 0, 7, 1],\n",
    "    'Assists': np.random.randint(0, 7, size=7) #len(df)\n",
    "})\n",
    "\n",
    "df = df[['Firstname', 'Country', 'Age', 'Goals', 'Assists', 'Post']]\n",
    "df.shape "
   ]
  },
  {
   "cell_type": "markdown",
   "metadata": {
    "deletable": true,
    "editable": true
   },
   "source": [
    "<font face=\"Gill Sans\" color=\"#261D7A\" size=\"3.2\">Then, we show the name of our columns and we display the beginning, the end and the step of our indexes.</font>"
   ]
  },
  {
   "cell_type": "code",
   "execution_count": null,
   "metadata": {
    "collapsed": false,
    "deletable": true,
    "editable": true
   },
   "outputs": [],
   "source": [
    "df.columns"
   ]
  },
  {
   "cell_type": "code",
   "execution_count": null,
   "metadata": {
    "collapsed": false,
    "deletable": true,
    "editable": true
   },
   "outputs": [],
   "source": [
    "df.index"
   ]
  },
  {
   "cell_type": "markdown",
   "metadata": {
    "deletable": true,
    "editable": true
   },
   "source": [
    "<font face=\"Gill Sans\" color=\"#261D7A\" size=\"3.2\">Classify players from the youngest to the oldest and in alphabetical order in case of equality.</font>"
   ]
  },
  {
   "cell_type": "code",
   "execution_count": null,
   "metadata": {
    "collapsed": false,
    "deletable": true,
    "editable": true
   },
   "outputs": [],
   "source": [
    "df.sort_values(by = ['Age', 'Firstname'])"
   ]
  },
  {
   "cell_type": "markdown",
   "metadata": {
    "deletable": true,
    "editable": true
   },
   "source": [
    "<font face=\"Gill Sans\" color=\"#261D7A\" size=\"3.2\">Ranking players over 26 from the oldest to the youngest.</font>"
   ]
  },
  {
   "cell_type": "code",
   "execution_count": null,
   "metadata": {
    "collapsed": false,
    "deletable": true,
    "editable": true
   },
   "outputs": [],
   "source": [
    "df.loc[df.Age > 26].sort_values(by = ['Age'], ascending=[False])"
   ]
  },
  {
   "cell_type": "markdown",
   "metadata": {
    "deletable": true,
    "editable": true
   },
   "source": [
    "<font face=\"Gill Sans\" color=\"#261D7A\" size=\"3.2\">Add a last line with the information entered as parameters.</font>"
   ]
  },
  {
   "cell_type": "code",
   "execution_count": null,
   "metadata": {
    "collapsed": false,
    "deletable": true,
    "editable": true
   },
   "outputs": [],
   "source": [
    "df.loc[len(df)] = [\"Koscielny\", \"France\", 31, 2, 1, 'Defender']\n",
    "df"
   ]
  },
  {
   "cell_type": "markdown",
   "metadata": {
    "deletable": true,
    "editable": true
   },
   "source": [
    "<font face=\"Gill Sans\" color=\"#261D7A\" size=\"3.2\">Insert a line at the end of the dataframe by omitting some values.</font>"
   ]
  },
  {
   "cell_type": "code",
   "execution_count": null,
   "metadata": {
    "collapsed": false,
    "deletable": true,
    "editable": true
   },
   "outputs": [],
   "source": [
    "df = df.append(dict(Firstname='Sanchez', Goals=17), ignore_index=True)\n",
    "df"
   ]
  },
  {
   "cell_type": "markdown",
   "metadata": {
    "deletable": true,
    "editable": true
   },
   "source": [
    "<font face=\"Gill Sans\" color=\"#261D7A\" size=\"3.2\">We know the Sanchez's number of assists and his post so we add these missing values.</font>"
   ]
  },
  {
   "cell_type": "code",
   "execution_count": null,
   "metadata": {
    "collapsed": false,
    "deletable": true,
    "editable": true
   },
   "outputs": [],
   "source": [
    "df.loc[df.Firstname == \"Sanchez\", 'Assists'] = 12 \n",
    "df.loc[df.Firstname == \"Sanchez\", 'Post'] = 'Striker'\n",
    "df.loc[df.Firstname == \"Sanchez\", 'Country'] = 'Chili'\n",
    "df"
   ]
  },
  {
   "cell_type": "markdown",
   "metadata": {
    "deletable": true,
    "editable": true
   },
   "source": [
    "<font face=\"Gill Sans\" color=\"#261D7A\" size=\"3.2\">As we do not know Sanchez's age it will be said that his age equals the average age of his team.</font>"
   ]
  },
  {
   "cell_type": "code",
   "execution_count": null,
   "metadata": {
    "collapsed": false,
    "deletable": true,
    "editable": true
   },
   "outputs": [],
   "source": [
    "df.loc[df.Firstname == \"Sanchez\", 'Age'] = round(np.mean(df.Age))\n",
    "df"
   ]
  },
  {
   "cell_type": "markdown",
   "metadata": {
    "deletable": true,
    "editable": true
   },
   "source": [
    "<font face=\"Gill Sans\" color=\"#261D7A\" size=\"3.2\">Fonction apply in order to determine the bad/mean/good strikers.</font>"
   ]
  },
  {
   "cell_type": "code",
   "execution_count": null,
   "metadata": {
    "collapsed": false,
    "deletable": true,
    "editable": true
   },
   "outputs": [],
   "source": [
    "def good_striker(df):\n",
    "  goals = df.Goals\n",
    "  if goals < 5:\n",
    "    return 0\n",
    "  if goals < 15:\n",
    "    return 1\n",
    "  else:\n",
    "    return 2\n",
    "        \n",
    "df[\"Striker\"] = df.apply(good_striker, axis=1)\n",
    "df"
   ]
  },
  {
   "cell_type": "markdown",
   "metadata": {
    "deletable": true,
    "editable": true
   },
   "source": [
    "<font face=\"Gill Sans\" color=\"#261D7A\" size=\"3.2\">Highlighting the best attackers with a renaming of players's post.</font>"
   ]
  },
  {
   "cell_type": "code",
   "execution_count": null,
   "metadata": {
    "collapsed": false,
    "deletable": true,
    "editable": true
   },
   "outputs": [],
   "source": [
    "df.loc[df.Post.str.contains('rik', na=False) & (df.Striker == 2), \"Post\"] = \"SuperStriker\"\n",
    "df"
   ]
  },
  {
   "cell_type": "markdown",
   "metadata": {
    "deletable": true,
    "editable": true
   },
   "source": [
    "<font face=\"Gill Sans\" color=\"#261D7A\" size=\"3.2\">Renaming Post column to SpecificPost.</font>"
   ]
  },
  {
   "cell_type": "code",
   "execution_count": null,
   "metadata": {
    "collapsed": false,
    "deletable": true,
    "editable": true
   },
   "outputs": [],
   "source": [
    "df = df.rename(columns={'Post':'SpecificPost'})\n",
    "df"
   ]
  },
  {
   "cell_type": "markdown",
   "metadata": {
    "deletable": true,
    "editable": true
   },
   "source": [
    "<font face=\"Gill Sans\" color=\"#261D7A\" size=\"3.2\">Equivalent to the 'table' function in R, 'value_counts' is here useful to know what kind of posts are available here.</font>"
   ]
  },
  {
   "cell_type": "code",
   "execution_count": null,
   "metadata": {
    "collapsed": false,
    "deletable": true,
    "editable": true
   },
   "outputs": [],
   "source": [
    "df.SpecificPost.value_counts()"
   ]
  },
  {
   "cell_type": "code",
   "execution_count": null,
   "metadata": {
    "collapsed": false,
    "deletable": true,
    "editable": true
   },
   "outputs": [],
   "source": [
    "df.SpecificPost.value_counts().to_dict()"
   ]
  },
  {
   "cell_type": "code",
   "execution_count": null,
   "metadata": {
    "collapsed": false,
    "deletable": true,
    "editable": true,
    "scrolled": true
   },
   "outputs": [],
   "source": [
    "len(df)"
   ]
  },
  {
   "cell_type": "markdown",
   "metadata": {
    "deletable": true,
    "editable": true
   },
   "source": [
    "<font face=\"Gill Sans\" color=\"#261D7A\" size=\"3.2\">Now we want to know which players might be a good deal.</font>"
   ]
  },
  {
   "cell_type": "code",
   "execution_count": null,
   "metadata": {
    "collapsed": false,
    "deletable": true,
    "editable": true
   },
   "outputs": [],
   "source": [
    "df['GoodDeal'] = np.where(16-df.Age + (df.Goals+df.Assists) > 1, 'Yes', 'No')\n",
    "df.loc[df.GoodDeal == 'Yes']"
   ]
  },
  {
   "cell_type": "markdown",
   "metadata": {
    "deletable": true,
    "editable": true
   },
   "source": [
    "<font face=\"Gill Sans\" color=\"#261D7A\" size=\"3.2\">We will convert float to integer, thing which is logic for ages, assists and goals notions for example.</font>"
   ]
  },
  {
   "cell_type": "code",
   "execution_count": null,
   "metadata": {
    "collapsed": false,
    "deletable": true,
    "editable": true
   },
   "outputs": [],
   "source": [
    "pd.options.display.float_format = '{:,.0f}'.format\n",
    "df"
   ]
  },
  {
   "cell_type": "markdown",
   "metadata": {
    "deletable": true,
    "editable": true
   },
   "source": [
    "<font face=\"Gill Sans\" color=\"#261D7A\" size=\"3.2\">Now we want to know the price of the players being 'good deal'.<br>\n",
    "The prices will change depending on when the application is launched since the assists are generated randomly.</font>"
   ]
  },
  {
   "cell_type": "code",
   "execution_count": null,
   "metadata": {
    "collapsed": false,
    "deletable": true,
    "editable": true
   },
   "outputs": [],
   "source": [
    "def price(df):\n",
    "  age = df.Age\n",
    "  goals = df.Goals\n",
    "  assists = df.Assists\n",
    "  price=2000000\n",
    "\n",
    "  #AGE\n",
    "  for i in range(16, int(age)): price -= 1000000\n",
    "  #GOALS\n",
    "  if goals>10: price+=5000000\n",
    "  if goals>15: price+=10000000\n",
    "  if goals>20: price+=15000000\n",
    "  if goals>25: price+=10000000\n",
    "  if goals>30: price+=20000000\n",
    "  if goals>30: price+=40000000\n",
    "  for j in range(int(goals)): price += 500000\n",
    "  #ASSISTS      \n",
    "  if assists>5: price+=2000000\n",
    "  if assists>7: price+=6000000;\n",
    "  if assists>15: price+=20000000;\n",
    "  if assists>25: price+=20000000\n",
    "  for k in range(int(assists)): price+=500000\n",
    "  #FINAL PRICE\n",
    "  if price<0: price=0\n",
    "  return round(price/1000000)\n",
    "\n",
    "df.loc[:, 'Price(M)'] = 0\n",
    "df.loc[df.GoodDeal == 'Yes', 'Price(M)'] = df.apply(price, axis=1)\n",
    "df"
   ]
  },
  {
   "cell_type": "markdown",
   "metadata": {},
   "source": [
    "<font face=\"Gill Sans\" color=\"#261D7A\" size=\"3.2\">\n",
    "Now we will learn to work with different filters.<br>\n",
    "Let's first begin by the group by introspection.\n",
    "</font>"
   ]
  },
  {
   "cell_type": "code",
   "execution_count": null,
   "metadata": {
    "collapsed": false,
    "deletable": true,
    "editable": true
   },
   "outputs": [],
   "source": [
    "df.groupby('SpecificPost').count()"
   ]
  },
  {
   "cell_type": "markdown",
   "metadata": {},
   "source": [
    "<font face=\"Gill Sans\" color=\"#261D7A\" size=\"3.2\">\n",
    "We can display every player having a number of assists impair and playing defender or striker.\n",
    "</font>"
   ]
  },
  {
   "cell_type": "code",
   "execution_count": null,
   "metadata": {
    "collapsed": false,
    "deletable": true,
    "editable": true
   },
   "outputs": [],
   "source": [
    "df.loc[df.Assists%2 == 1].loc[df.loc[:, 'SpecificPost'].isin(['Defender', 'Striker']), :]"
   ]
  },
  {
   "cell_type": "markdown",
   "metadata": {},
   "source": [
    "<font face=\"Gill Sans\" color=\"#261D7A\" size=\"3.2\">\n",
    "Display object and bool columns.\n",
    "</font>"
   ]
  },
  {
   "cell_type": "code",
   "execution_count": null,
   "metadata": {
    "collapsed": false,
    "deletable": true,
    "editable": true
   },
   "outputs": [],
   "source": [
    "df.select_dtypes(include=['object', 'bool'])"
   ]
  },
  {
   "cell_type": "markdown",
   "metadata": {},
   "source": [
    "<font face=\"Gill Sans\" color=\"#261D7A\" size=\"3.2\">\n",
    "Display numerics columns.\n",
    "</font>"
   ]
  },
  {
   "cell_type": "code",
   "execution_count": null,
   "metadata": {
    "collapsed": false,
    "deletable": true,
    "editable": true
   },
   "outputs": [],
   "source": [
    "df._get_numeric_data()\n",
    "\n",
    "#same as:\n",
    "# df.select_dtypes(['int', 'float'])"
   ]
  },
  {
   "cell_type": "markdown",
   "metadata": {},
   "source": [
    "<font face=\"Gill Sans\" color=\"#261D7A\" size=\"3.2\">\n",
    "From the group by query we can choose to select only a part of the result. Here it will be the midfielders.\n",
    "</font>"
   ]
  },
  {
   "cell_type": "code",
   "execution_count": null,
   "metadata": {
    "collapsed": false,
    "deletable": true,
    "editable": true
   },
   "outputs": [],
   "source": [
    "df.groupby('SpecificPost').get_group('Midfielder')"
   ]
  },
  {
   "cell_type": "markdown",
   "metadata": {},
   "source": [
    "<font face=\"Gill Sans\" color=\"#261D7A\" size=\"3.2\">\n",
    "Display every mean columns of defenders by their countries which have to be France or Germany.\n",
    "</font>"
   ]
  },
  {
   "cell_type": "code",
   "execution_count": null,
   "metadata": {
    "collapsed": false,
    "deletable": true,
    "editable": true
   },
   "outputs": [],
   "source": [
    "df.groupby('SpecificPost').get_group('Defender').loc[df.loc[:, 'Country'].isin(['France', 'Germany']), :].groupby('Country').mean()"
   ]
  },
  {
   "cell_type": "markdown",
   "metadata": {},
   "source": [
    "<font face=\"Gill Sans\" color=\"#261D7A\" size=\"3.2\">\n",
    "Group by two columns is also possible. <br>\n",
    "Here we choose to group by SpecificPost and then GoodDeal and display every mean results.\n",
    "</font>"
   ]
  },
  {
   "cell_type": "code",
   "execution_count": null,
   "metadata": {
    "collapsed": false,
    "deletable": true,
    "editable": true
   },
   "outputs": [],
   "source": [
    "df.groupby(['SpecificPost', 'GoodDeal']).mean()"
   ]
  },
  {
   "cell_type": "markdown",
   "metadata": {},
   "source": [
    "<font face=\"Gill Sans\" color=\"#261D7A\" size=\"3.2\">\n",
    "Same thing than above but this time we juste displaying midfielders.\n",
    "</font>"
   ]
  },
  {
   "cell_type": "code",
   "execution_count": null,
   "metadata": {
    "collapsed": false,
    "deletable": true,
    "editable": true
   },
   "outputs": [],
   "source": [
    "df.loc[df.SpecificPost == 'Midfielder', :].groupby(['SpecificPost', 'GoodDeal']).mean()"
   ]
  },
  {
   "cell_type": "markdown",
   "metadata": {},
   "source": [
    "<font face=\"Gill Sans\" color=\"#261D7A\" size=\"3.2\">\n",
    "Introduction to the crosstab function. <br>\n",
    "We display here every post by countries\n",
    "</font>"
   ]
  },
  {
   "cell_type": "code",
   "execution_count": null,
   "metadata": {
    "collapsed": false,
    "deletable": true,
    "editable": true
   },
   "outputs": [],
   "source": [
    "pd.crosstab(index=df['SpecificPost'], columns=df['Country'])"
   ]
  },
  {
   "cell_type": "markdown",
   "metadata": {},
   "source": [
    "<font face=\"Gill Sans\" color=\"#261D7A\" size=\"3.2\">\n",
    "We can also make opeartion on columns.<br>\n",
    "Here we display the sum and the mean of the column Age groupe by SpecificPost\n",
    "</font>"
   ]
  },
  {
   "cell_type": "code",
   "execution_count": null,
   "metadata": {
    "collapsed": false,
    "deletable": true,
    "editable": true
   },
   "outputs": [],
   "source": [
    "group = df.groupby('SpecificPost')\n",
    "group['Age'].agg({'Sum': np.sum,\n",
    "                     'Mean': np.mean})"
   ]
  },
  {
   "cell_type": "markdown",
   "metadata": {},
   "source": [
    "<font face=\"Gill Sans\" color=\"#261D7A\" size=\"3.2\">\n",
    "We can do almost the same thing differently.\n",
    "</font>"
   ]
  },
  {
   "cell_type": "code",
   "execution_count": null,
   "metadata": {
    "collapsed": false,
    "deletable": true,
    "editable": true
   },
   "outputs": [],
   "source": [
    "group.agg({'Goals': np.sum, \n",
    "           'Age': lambda x: np.mean(x)})"
   ]
  },
  {
   "cell_type": "markdown",
   "metadata": {},
   "source": [
    "<font face=\"Gill Sans\" color=\"#261D7A\" size=\"3.2\">\n",
    "And also add a group by filter to those operations.\n",
    "</font>"
   ]
  },
  {
   "cell_type": "code",
   "execution_count": null,
   "metadata": {
    "collapsed": false,
    "deletable": true,
    "editable": true
   },
   "outputs": [],
   "source": [
    "np.round(df.groupby(['SpecificPost', 'Country']).Assists.agg({'Sum':'sum', 'Mean': 'mean'}),1)"
   ]
  },
  {
   "cell_type": "markdown",
   "metadata": {},
   "source": [
    "<font face=\"Gill Sans\" color=\"#261D7A\" size=\"3.2\">\n",
    "Finally, you can display a lot of operations on the group by filter you will choose.\n",
    "</font>"
   ]
  },
  {
   "cell_type": "code",
   "execution_count": null,
   "metadata": {
    "collapsed": false,
    "deletable": true,
    "editable": true
   },
   "outputs": [],
   "source": [
    "df.groupby(['SpecificPost', 'Country']).agg([np.mean, np.sum, np.std])"
   ]
  },
  {
   "cell_type": "markdown",
   "metadata": {},
   "source": [
    "<font face=\"Gill Sans\" color=\"#261D7A\" size=\"3.2\">\n",
    "It is also possible to merge two or more dataframes by an id columns. <br>\n",
    "In our case, we wil choose the Country column as our id.\n",
    "</font>"
   ]
  },
  {
   "cell_type": "code",
   "execution_count": null,
   "metadata": {
    "collapsed": false,
    "deletable": true,
    "editable": true
   },
   "outputs": [],
   "source": [
    "raw_data = {'Country': ['France', 'Germany', 'England'],\n",
    "            'Capital': ['Paris', 'Berlin', 'London'],\n",
    "            'Coupe du monde': [1, 3, 1]}\n",
    "df1 = pd.DataFrame(raw_data, columns = ['Country', 'Capital', 'Coupe du monde'])\n",
    "print(df1)\n",
    "\n",
    "pd.merge(df, df1, on='Country') #Par défaut how='inner'"
   ]
  },
  {
   "cell_type": "markdown",
   "metadata": {},
   "source": [
    "<font face=\"Gill Sans\" color=\"#261D7A\" size=\"3.2\">\n",
    "As we can see in sql language, we can join two tables using leff, right, inner our outer condition.<br>\n",
    "Knowing that without specify the 'how' argument, the default condition will be inner.<br>\n",
    "<br>\n",
    "LEFT\n",
    "</font>"
   ]
  },
  {
   "cell_type": "code",
   "execution_count": null,
   "metadata": {
    "collapsed": false,
    "deletable": true,
    "editable": true
   },
   "outputs": [],
   "source": [
    "pd.merge(df, df1, on='Country', how='left')"
   ]
  },
  {
   "cell_type": "markdown",
   "metadata": {},
   "source": [
    "<font face=\"Gill Sans\" color=\"#261D7A\" size=\"3.2\">\n",
    "OUTER\n",
    "</font>"
   ]
  },
  {
   "cell_type": "code",
   "execution_count": null,
   "metadata": {
    "collapsed": false,
    "deletable": true,
    "editable": true
   },
   "outputs": [],
   "source": [
    "pd.merge(df, df1, on='Country', how='outer')"
   ]
  },
  {
   "cell_type": "markdown",
   "metadata": {
    "deletable": true,
    "editable": true
   },
   "source": [
    "<font face=\"Gill Sans\" color=\"#261D7A\" size=\"3.2\">Thank you ! The app to apprehend pandas is now over !</font>"
   ]
  }
 ],
 "metadata": {
  "anaconda-cloud": {},
  "kernelspec": {
   "display_name": "Python 3",
   "language": "python",
   "name": "python3"
  },
  "language_info": {
   "codemirror_mode": {
    "name": "ipython",
    "version": 3
   },
   "file_extension": ".py",
   "mimetype": "text/x-python",
   "name": "python",
   "nbconvert_exporter": "python",
   "pygments_lexer": "ipython3",
   "version": "3.6.0"
  }
 },
 "nbformat": 4,
 "nbformat_minor": 1
}
